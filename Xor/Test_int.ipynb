{
 "cells": [
  {
   "cell_type": "code",
   "execution_count": 1,
   "metadata": {
    "collapsed": true
   },
   "outputs": [],
   "source": [
    "import torch\n",
    "from torch import nn\n",
    "import torch.nn.functional as F"
   ]
  },
  {
   "cell_type": "code",
   "execution_count": 63,
   "metadata": {},
   "outputs": [],
   "source": [
    "rDelt = pow(2,8)\n",
    "TYPE = torch.int32\n",
    "fc1 = nn.Linear(2,3)\n",
    "fc2 = nn.Linear(3,1)"
   ]
  },
  {
   "cell_type": "code",
   "execution_count": 64,
   "metadata": {},
   "outputs": [],
   "source": [
    "a = torch.Tensor([[0,0],\n",
    "                  [0,1],\n",
    "                  [1,0],\n",
    "                  [1,1]])\n",
    "#print fc1(a)\n",
    "delt = pow(2,8)\n",
    "fc1.weight.data, fc1.bias.data = (fc1.weight * rDelt).to(TYPE), (fc1.bias*rDelt*rDelt).to(TYPE)\n",
    "#print fc1((a*rDelt).to(TYPE)).to(torch.float32)/rDelt/rDelt"
   ]
  },
  {
   "cell_type": "code",
   "execution_count": 65,
   "metadata": {},
   "outputs": [],
   "source": [
    "lol = net.state_dict()\n",
    "fc1.weight.data = (lol[\"fc1.weight\"]*rDelt).to(TYPE)\n",
    "fc1.bias.data = (lol[\"fc1.bias\"]*rDelt*rDelt).to(TYPE)\n",
    "fc2.weight.data = (lol[\"fc2.weight\"]*rDelt).to(TYPE)\n",
    "fc2.bias.data = (lol[\"fc2.bias\"]*rDelt*rDelt).to(TYPE)"
   ]
  },
  {
   "cell_type": "code",
   "execution_count": 66,
   "metadata": {
    "collapsed": true
   },
   "outputs": [],
   "source": [
    "a = torch.Tensor([[0,0],\n",
    "                  [0,1],\n",
    "                  [1,0],\n",
    "                  [1,1]])\n",
    "b = torch.Tensor([0,1,1,0])"
   ]
  },
  {
   "cell_type": "code",
   "execution_count": 74,
   "metadata": {},
   "outputs": [
    {
     "name": "stdout",
     "output_type": "stream",
     "text": [
      "tensor([[0.0039],\n",
      "        [0.9961],\n",
      "        [1.0000],\n",
      "        [0.0039]], grad_fn=<DivBackward0>)\n",
      "-8.56030201912\n",
      "-8.12533903122\n",
      "tensor([[0.0039],\n",
      "        [0.9961],\n",
      "        [1.0000],\n",
      "        [0.0039]])\n",
      "-8.07516407967\n"
     ]
    }
   ],
   "source": [
    "import time\n",
    "inputs = (a*rDelt).to(TYPE)\n",
    "o = F.relu(torch.from_numpy(fc1((inputs)).detach().numpy() >>8))\n",
    "o = fc2(o)/rDelt\n",
    "print o.to(torch.float32)/rDelt\n",
    "sT = time.time()\n",
    "for _ in range(100000):\n",
    "    o = F.relu(fc1((inputs)))/rDelt\n",
    "    o = fc2(o).div(rDelt)\n",
    "eT = time.time()\n",
    "print sT - eT\n",
    "sT = time.time()\n",
    "for _ in range(100000):\n",
    "    o = F.relu(fc1((inputs)))>>8\n",
    "    o = fc2(o)>>8\n",
    "eT = time.time()\n",
    "print sT - eT\n",
    "print o.to(torch.float32)/rDelt\n",
    "sT = time.time()\n",
    "for _ in range(100000):\n",
    "    net(af)\n",
    "eT = time.time()\n",
    "print sT - eT"
   ]
  },
  {
   "cell_type": "code",
   "execution_count": 97,
   "metadata": {
    "collapsed": true
   },
   "outputs": [],
   "source": [
    "optim = torch.optim.SGD([\n",
    "    {'params':fc1.weight},\n",
    "    {'params':fc1.bias},\n",
    "    {'params':fc2.weight},\n",
    "    {'params':fc2.bias}\n",
    "],lr = 1,momentum=0.9)\n",
    "criterion = nn.MSELoss()"
   ]
  },
  {
   "cell_type": "code",
   "execution_count": 99,
   "metadata": {},
   "outputs": [
    {
     "name": "stdout",
     "output_type": "stream",
     "text": [
      "911.189260341\n",
      "Parameter containing:\n",
      "tensor([[-213.4981, -215.0359],\n",
      "        [-137.6702, -141.7028],\n",
      "        [ -58.4695,  -65.8382]], requires_grad=True)\n"
     ]
    }
   ],
   "source": [
    "for _ in range(1):\n",
    "    tLoss = 0\n",
    "    for i in range(4):\n",
    "        optim.zero_grad()\n",
    "        o = fc1(a[i])\n",
    "        o = fc2(o)\n",
    "        loss = (o - b[i]).pow(torch.Tensor(([2])).to(torch.int16))\n",
    "        loss.backward()\n",
    "        optim.step()\n",
    "        tLoss += loss.item()\n",
    "    print tLoss\n",
    "    print fc1.weight"
   ]
  },
  {
   "cell_type": "code",
   "execution_count": 7,
   "metadata": {},
   "outputs": [
    {
     "name": "stdout",
     "output_type": "stream",
     "text": [
      "tensor([4], dtype=torch.int16)\n"
     ]
    }
   ],
   "source": [
    "print torch.Tensor(([2])).to(torch.int16).pow(torch.Tensor(([2])).to(torch.int16))"
   ]
  },
  {
   "cell_type": "code",
   "execution_count": 5,
   "metadata": {
    "collapsed": true
   },
   "outputs": [],
   "source": [
    "af = torch.Tensor([[0,0],\n",
    "                  [0,1],\n",
    "                  [1,0],\n",
    "                  [1,1]])\n",
    "bf = torch.Tensor([0,1,1,0])"
   ]
  },
  {
   "cell_type": "code",
   "execution_count": 28,
   "metadata": {
    "collapsed": true
   },
   "outputs": [],
   "source": [
    "class float_Net(nn.Module):\n",
    "    def __init__(self):\n",
    "        super(float_Net, self).__init__()\n",
    "        self.fc1 = nn.Linear(2, 3)\n",
    "        self.fc2 = nn.Linear(3, 1)\n",
    "\n",
    "    def forward(self, x):\n",
    "        \n",
    "        x = F.relu(self.fc1(x))\n",
    "        x = self.fc2(x)\n",
    "        return x\n",
    "\n",
    "net = float_Net()\n",
    "criterion = nn.MSELoss()\n",
    "optimizer = torch.optim.SGD(net.parameters(), lr=0.001, momentum=0.9)"
   ]
  },
  {
   "cell_type": "code",
   "execution_count": 31,
   "metadata": {},
   "outputs": [
    {
     "name": "stdout",
     "output_type": "stream",
     "text": [
      "9.00457262105e-05\n",
      "2.36419889461e-05\n",
      "6.11210401757e-06\n",
      "1.6168204553e-06\n",
      "4.17396467611e-07\n"
     ]
    }
   ],
   "source": [
    "for i in range(500):\n",
    "    tLoss = 0\n",
    "    for j in range(4):\n",
    "        inputs, labels = af[j], bf[j]\n",
    "        optimizer.zero_grad()\n",
    "        outputs = net(inputs)\n",
    "        loss = criterion(outputs, labels)\n",
    "        loss.backward()\n",
    "        optimizer.step()\n",
    "        tLoss += loss.item()\n",
    "    if i%100 == 0:\n",
    "        print tLoss"
   ]
  },
  {
   "cell_type": "code",
   "execution_count": 33,
   "metadata": {},
   "outputs": [
    {
     "name": "stdout",
     "output_type": "stream",
     "text": [
      "tensor([[0.0002],\n",
      "        [0.9997],\n",
      "        [0.9999],\n",
      "        [0.0001]], grad_fn=<ThAddmmBackward>)\n"
     ]
    }
   ],
   "source": [
    "print net(af)"
   ]
  },
  {
   "cell_type": "code",
   "execution_count": 73,
   "metadata": {},
   "outputs": [
    {
     "name": "stdout",
     "output_type": "stream",
     "text": [
      "Parameter containing:\n",
      "tensor([[ 31, -77],\n",
      "        [-22, 160],\n",
      "        [166,  58]], dtype=torch.int32, requires_grad=True)\n"
     ]
    }
   ],
   "source": [
    "print lol.weight"
   ]
  },
  {
   "cell_type": "code",
   "execution_count": 77,
   "metadata": {},
   "outputs": [
    {
     "name": "stdout",
     "output_type": "stream",
     "text": [
      "tensor([6.2000])\n"
     ]
    }
   ],
   "source": [
    "a = torch.Tensor([1, 1])\n",
    "w = torch.Tensor([[3], [4]])\n",
    "b = torch.Tensor([0.8])\n",
    "c = a.matmul(w)\n",
    "print c - b"
   ]
  },
  {
   "cell_type": "code",
   "execution_count": 83,
   "metadata": {},
   "outputs": [
    {
     "name": "stdout",
     "output_type": "stream",
     "text": [
      "tensor([256., 256.]) tensor([[ 768.],\n",
      "        [1024.]]) tensor([6.2000])\n"
     ]
    }
   ],
   "source": [
    "aS = a*delt\n",
    "wS = w*delt\n",
    "bS = b*delt*delt\n",
    "c = aS.matmul(wS)\n",
    "print aS, wS, (c - bS)/delt/delt"
   ]
  },
  {
   "cell_type": "code",
   "execution_count": 67,
   "metadata": {},
   "outputs": [
    {
     "name": "stdout",
     "output_type": "stream",
     "text": [
      "458752\n"
     ]
    }
   ],
   "source": [
    "print 7*256*256"
   ]
  },
  {
   "cell_type": "code",
   "execution_count": 68,
   "metadata": {},
   "outputs": [
    {
     "data": {
      "text/plain": [
       "458752"
      ]
     },
     "execution_count": 68,
     "metadata": {},
     "output_type": "execute_result"
    }
   ],
   "source": [
    "256*768+256*1024"
   ]
  },
  {
   "cell_type": "code",
   "execution_count": 16,
   "metadata": {},
   "outputs": [
    {
     "name": "stdout",
     "output_type": "stream",
     "text": [
      "[[ 0.  0.]\n",
      " [ 0.  1.]\n",
      " [ 1.  0.]\n",
      " [ 1.  1.]]\n"
     ]
    }
   ],
   "source": [
    "import numpy as np\n",
    "ppnp = af.numpy()\n",
    "print ppnp"
   ]
  },
  {
   "cell_type": "code",
   "execution_count": 21,
   "metadata": {},
   "outputs": [
    {
     "name": "stdout",
     "output_type": "stream",
     "text": [
      "tensor([[0., 0.],\n",
      "        [0., 2.],\n",
      "        [2., 0.],\n",
      "        [2., 2.]])\n"
     ]
    }
   ],
   "source": [
    "ppnp = 4*af\n",
    "ppnp = ppnp >> 1\n",
    "print ppnp"
   ]
  },
  {
   "cell_type": "code",
   "execution_count": 48,
   "metadata": {},
   "outputs": [
    {
     "name": "stdout",
     "output_type": "stream",
     "text": [
      "[-104]\n",
      "-104\n"
     ]
    }
   ],
   "source": [
    "print torch.Tensor([-26613]).to(TYPE).numpy() >> 8\n",
    "print int(-26613) >> 8"
   ]
  },
  {
   "cell_type": "code",
   "execution_count": 46,
   "metadata": {},
   "outputs": [
    {
     "name": "stdout",
     "output_type": "stream",
     "text": [
      "-92\n"
     ]
    }
   ],
   "source": [
    "print np.int16(-23423) >> 8"
   ]
  },
  {
   "cell_type": "code",
   "execution_count": null,
   "metadata": {
    "collapsed": true
   },
   "outputs": [],
   "source": []
  }
 ],
 "metadata": {
  "kernelspec": {
   "display_name": "Python 2",
   "language": "python",
   "name": "python2"
  },
  "language_info": {
   "codemirror_mode": {
    "name": "ipython",
    "version": 2
   },
   "file_extension": ".py",
   "mimetype": "text/x-python",
   "name": "python",
   "nbconvert_exporter": "python",
   "pygments_lexer": "ipython2",
   "version": "2.7.13"
  }
 },
 "nbformat": 4,
 "nbformat_minor": 2
}
