{
 "cells": [
  {
   "cell_type": "code",
   "execution_count": 8,
   "metadata": {},
   "outputs": [],
   "source": [
    "import torch\n",
    "import torchvision\n",
    "import torchvision.transforms as transforms\n",
    "import matplotlib.pyplot as plt\n",
    "import PIL\n",
    "import numpy as np\n",
    "import torch.nn as nn\n",
    "import torch.nn.functional as F\n",
    "import torch.optim as optim\n",
    "import models\n",
    "from SampleNN import *\n",
    "%matplotlib inline\n",
    "device = torch.device(\"cuda:2\" if torch.cuda.is_available() else \"cpu\")\n",
    "import torchvision\n",
    "from torchvision import transforms\n",
    "from tqdm import tqdm_notebook\n",
    "\n",
    "N_F = 16\n",
    "m_F = 8\n",
    "N_w = 8\n",
    "m_w = 7\n",
    "pretrained = 'good.pt'\n",
    "#pretrained = None\n",
    "\n",
    "\n",
    "transform = transforms.Compose(\n",
    "    [transforms.ToTensor(),\n",
    "     transforms.Normalize((0.5, 0.5, 0.5), (0.5, 0.5, 0.5))])\n",
    "\n",
    "trainset = torchvision.datasets.CIFAR10(root = '/home/yanzy/SEU_NNFailure/CIFAR_10/data', train=True,\n",
    "                                        download=False, transform=transform)\n",
    "train_loader = torch.utils.data.DataLoader(trainset, batch_size=128,\n",
    "                                          shuffle=True, num_workers=2, pin_memory=True)\n",
    "\n",
    "testset = torchvision.datasets.CIFAR10(root='/home/yanzy/SEU_NNFailure/CIFAR_10/data', train=False,\n",
    "                                       download=False, transform=transform)\n",
    "testloader = torch.utils.data.DataLoader(testset, batch_size=256,\n",
    "                                         shuffle=False, num_workers=2, pin_memory=True)\n",
    "\n",
    "classes = ('plane', 'car', 'bird', 'cat',\n",
    "        'deer', 'dog', 'frog', 'horse', 'ship', 'truck')\n",
    "\n",
    "sample_net = models.nin(N=N_F, m=m_F).to(device)\n",
    "\n",
    "if pretrained:\n",
    "    State_File = torch.load(pretrained)\n",
    "    lol = sample_net.state_dict()\n",
    "    a = lol.keys()\n",
    "    #print (len(a))\n",
    "    gt = State_File\n",
    "    b = gt.keys()\n",
    "    for i in range(len(a)):\n",
    "        lol[a[i]] = gt[b[i]]\n",
    "    sample_net.load_state_dict(lol)\n",
    "else:\n",
    "    for m in sample_net.modules():\n",
    "        if isinstance(m, nn.Conv2d):\n",
    "            m.weight.data.normal_(0, 0.05)\n",
    "            m.bias.data.normal_(0, 0.0)\n",
    "\n",
    "def val(N_F, m_F, N_w, m_w):\n",
    "    torch.cuda.empty_cache()\n",
    "    TMP = protectStateDict(sample_net)\n",
    "    sampleStateDict(sample_net,N=N_w,m=m_w)\n",
    "    sample_net.eval()\n",
    "    correct = 0\n",
    "    total = 0\n",
    "    count = 0\n",
    "    with torch.no_grad():\n",
    "        for data in testloader:\n",
    "            images, labels = data\n",
    "            images, labels = images.to(device), labels.to(device)\n",
    "            images = mSample(N=N_F,m=m_F)(images)\n",
    "            outputs = sample_net(images)\n",
    "            _, predicted = torch.max(outputs.data, 1)\n",
    "            total += labels.size(0)\n",
    "            count += labels.size(0)\n",
    "            correct += (predicted == labels).sum().item()\n",
    "            #print correct, total\n",
    "    sample_net.load_state_dict(TMP)\n",
    "    torch.cuda.empty_cache()\n",
    "\n",
    "   #print('Accuracy of the network on the %d test images: %.3f %%' % (total,\n",
    "    #    100.0 * correct / total))\n",
    "    return 100.0 * correct / total"
   ]
  },
  {
   "cell_type": "code",
   "execution_count": 9,
   "metadata": {},
   "outputs": [],
   "source": [
    "criterion_s = nn.CrossEntropyLoss()\n",
    "base_lr = float(1e-3)\n",
    "base_lr = 0.1\n",
    "param_dict = dict(sample_net.named_parameters())\n",
    "params = []\n",
    "#print(len(param_dict.keys()))\n",
    "\n",
    "for key, value in param_dict.items():\n",
    "    if key == 'classifier.23.weight':\n",
    "        params += [{'params':[value], 'lr':0.1 * base_lr, \n",
    "            'momentum':0.95, 'weight_decay':0.0001}]\n",
    "    elif key == 'classifier.23.bias':\n",
    "        params += [{'params':[value], 'lr':0.1 * base_lr, \n",
    "            'momentum':0.95, 'weight_decay':0.0000}]\n",
    "    elif 'weight' in key:\n",
    "        params += [{'params':[value], 'lr':1.0 * base_lr,\n",
    "            'momentum':0.95, 'weight_decay':0.0001}]\n",
    "    else:\n",
    "        params += [{'params':[value], 'lr':2.0 * base_lr,\n",
    "            'momentum':0.95, 'weight_decay':0.0000}]\n",
    "\n",
    "optimizer_s = optim.SGD(params, lr=0.1, momentum=0.9)\n",
    "\n",
    "def adjust_learning_rate(optimizer, epoch):\n",
    "    update_list = [120, 200, 240, 280]\n",
    "    if epoch in update_list:\n",
    "        for param_group in optimizer.param_groups:\n",
    "            param_group['lr'] = param_group['lr'] * 0.1\n",
    "    return\n",
    "\n",
    "def train(epoch):\n",
    "    sample_net.train()\n",
    "    running_loss = 0.0\n",
    "    count = 0\n",
    "    for data in tqdm_notebook(train_loader, leave = False):\n",
    "        # get the inputs\n",
    "        inputs, labels = data\n",
    "        inputs, labels = inputs.to(device), labels.to(device)\n",
    "        inputs = mSample(N=N_F,m=m_F)(inputs)\n",
    "\n",
    "        # zero the parameter gradients\n",
    "        optimizer_s.zero_grad()\n",
    "\n",
    "        # forward + backward + optimize\n",
    "        TMP = protectStateDict(sample_net)\n",
    "        sampleStateDict(sample_net)\n",
    "        outputs = sample_net(inputs)\n",
    "        loss = criterion_s(outputs, labels)\n",
    "        loss.backward()\n",
    "        sample_net.load_state_dict(TMP)\n",
    "        del TMP\n",
    "        torch.cuda.empty_cache()\n",
    "        optimizer_s.step()\n",
    "        count += labels.size(0)\n",
    "\n",
    "        # print statistics\n",
    "        running_loss += loss.item()\n",
    "    return running_loss"
   ]
  },
  {
   "cell_type": "code",
   "execution_count": 10,
   "metadata": {},
   "outputs": [
    {
     "data": {
      "application/vnd.jupyter.widget-view+json": {
       "model_id": "113a1b1dec5c4e48ba84532b8518ebef",
       "version_major": 2,
       "version_minor": 0
      },
      "text/plain": [
       "HBox(children=(IntProgress(value=0, max=10), HTML(value=u'')))"
      ]
     },
     "metadata": {},
     "output_type": "display_data"
    },
    {
     "data": {
      "application/vnd.jupyter.widget-view+json": {
       "model_id": "",
       "version_major": 2,
       "version_minor": 0
      },
      "text/plain": [
       "HBox(children=(IntProgress(value=0, max=391), HTML(value=u'')))"
      ]
     },
     "metadata": {},
     "output_type": "display_data"
    },
    {
     "data": {
      "application/vnd.jupyter.widget-view+json": {
       "model_id": "",
       "version_major": 2,
       "version_minor": 0
      },
      "text/plain": [
       "HBox(children=(IntProgress(value=0, max=391), HTML(value=u'')))"
      ]
     },
     "metadata": {},
     "output_type": "display_data"
    },
    {
     "data": {
      "application/vnd.jupyter.widget-view+json": {
       "model_id": "",
       "version_major": 2,
       "version_minor": 0
      },
      "text/plain": [
       "HBox(children=(IntProgress(value=0, max=391), HTML(value=u'')))"
      ]
     },
     "metadata": {},
     "output_type": "display_data"
    },
    {
     "data": {
      "application/vnd.jupyter.widget-view+json": {
       "model_id": "",
       "version_major": 2,
       "version_minor": 0
      },
      "text/plain": [
       "HBox(children=(IntProgress(value=0, max=391), HTML(value=u'')))"
      ]
     },
     "metadata": {},
     "output_type": "display_data"
    },
    {
     "data": {
      "application/vnd.jupyter.widget-view+json": {
       "model_id": "",
       "version_major": 2,
       "version_minor": 0
      },
      "text/plain": [
       "HBox(children=(IntProgress(value=0, max=391), HTML(value=u'')))"
      ]
     },
     "metadata": {},
     "output_type": "display_data"
    },
    {
     "data": {
      "application/vnd.jupyter.widget-view+json": {
       "model_id": "",
       "version_major": 2,
       "version_minor": 0
      },
      "text/plain": [
       "HBox(children=(IntProgress(value=0, max=391), HTML(value=u'')))"
      ]
     },
     "metadata": {},
     "output_type": "display_data"
    },
    {
     "data": {
      "application/vnd.jupyter.widget-view+json": {
       "model_id": "",
       "version_major": 2,
       "version_minor": 0
      },
      "text/plain": [
       "HBox(children=(IntProgress(value=0, max=391), HTML(value=u'')))"
      ]
     },
     "metadata": {},
     "output_type": "display_data"
    },
    {
     "data": {
      "application/vnd.jupyter.widget-view+json": {
       "model_id": "",
       "version_major": 2,
       "version_minor": 0
      },
      "text/plain": [
       "HBox(children=(IntProgress(value=0, max=391), HTML(value=u'')))"
      ]
     },
     "metadata": {},
     "output_type": "display_data"
    },
    {
     "data": {
      "application/vnd.jupyter.widget-view+json": {
       "model_id": "",
       "version_major": 2,
       "version_minor": 0
      },
      "text/plain": [
       "HBox(children=(IntProgress(value=0, max=391), HTML(value=u'')))"
      ]
     },
     "metadata": {},
     "output_type": "display_data"
    },
    {
     "data": {
      "application/vnd.jupyter.widget-view+json": {
       "model_id": "",
       "version_major": 2,
       "version_minor": 0
      },
      "text/plain": [
       "HBox(children=(IntProgress(value=0, max=391), HTML(value=u'')))"
      ]
     },
     "metadata": {},
     "output_type": "display_data"
    }
   ],
   "source": [
    "Loader = tqdm_notebook(range(10)) \n",
    "for epoch in Loader:\n",
    "    adjust_learning_rate(optimizer_s, epoch)\n",
    "    torch.cuda.empty_cache()\n",
    "    loss = train(epoch)\n",
    "    torch.cuda.empty_cache()\n",
    "    TMP = protectStateDict(sample_net)\n",
    "    sampleStateDict(sample_net)\n",
    "    acc = val(N_F, m_F, N_w, m_w)\n",
    "    sample_net.load_state_dict(TMP)\n",
    "    del TMP\n",
    "    Loader.set_description('l %.2f, a %.2f'%(loss, acc))"
   ]
  },
  {
   "cell_type": "code",
   "execution_count": null,
   "metadata": {},
   "outputs": [],
   "source": []
  }
 ],
 "metadata": {
  "kernelspec": {
   "display_name": "Python2 (py2env)",
   "language": "python",
   "name": "testenv"
  },
  "language_info": {
   "codemirror_mode": {
    "name": "ipython",
    "version": 2
   },
   "file_extension": ".py",
   "mimetype": "text/x-python",
   "name": "python",
   "nbconvert_exporter": "python",
   "pygments_lexer": "ipython2",
   "version": "2.7.12"
  }
 },
 "nbformat": 4,
 "nbformat_minor": 2
}
