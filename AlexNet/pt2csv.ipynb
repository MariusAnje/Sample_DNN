{
 "cells": [
  {
   "cell_type": "code",
   "execution_count": 2,
   "metadata": {},
   "outputs": [],
   "source": [
    "import torch\n",
    "from SampleNN import mSample\n",
    "import torchvision"
   ]
  },
  {
   "cell_type": "code",
   "execution_count": 5,
   "metadata": {},
   "outputs": [],
   "source": [
    "device = torch.device('cpu')\n",
    "float_net = torchvision.models.alexnet(pretrained=True).to(device)\n",
    "gt  = float_net.state_dict()\n",
    "b = gt.keys()\n",
    "N = 16\n",
    "m = 10\n"
   ]
  },
  {
   "cell_type": "code",
   "execution_count": 14,
   "metadata": {},
   "outputs": [],
   "source": [
    "for key in b:\n",
    "    if key.find('classifier') != -1:\n",
    "        w = gt[key]\n",
    "        w = mSample(N,m)(w)\n",
    "        w = w.numpy() * (2**10)\n",
    "        if len(w.shape) == 1:\n",
    "            tmpfile = open(key+'.csv','w+')\n",
    "            for i in range(len(w)):\n",
    "                tmpfile.write('%d,'%w[i])\n",
    "            tmpfile.close()\n",
    "        if len(w.shape) == 2:\n",
    "            tmpfile = open(key+'.csv','w+')\n",
    "            for i in range(w.shape[0]):\n",
    "                for j in range(w.shape[1]):\n",
    "                    tmpfile.write('%d,'%w[i,j])\n",
    "                tmpfile.write('\\n')\n",
    "            tmpfile.close()"
   ]
  },
  {
   "cell_type": "code",
   "execution_count": null,
   "metadata": {},
   "outputs": [],
   "source": []
  }
 ],
 "metadata": {
  "kernelspec": {
   "display_name": "Python2 (py2env)",
   "language": "python",
   "name": "testenv"
  },
  "language_info": {
   "codemirror_mode": {
    "name": "ipython",
    "version": 2
   },
   "file_extension": ".py",
   "mimetype": "text/x-python",
   "name": "python",
   "nbconvert_exporter": "python",
   "pygments_lexer": "ipython2",
   "version": "2.7.12"
  }
 },
 "nbformat": 4,
 "nbformat_minor": 2
}
