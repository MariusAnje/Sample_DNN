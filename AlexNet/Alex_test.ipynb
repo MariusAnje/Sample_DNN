{
 "cells": [
  {
   "cell_type": "code",
   "execution_count": 1,
   "metadata": {},
   "outputs": [],
   "source": [
    "import torch\n",
    "import torchvision\n",
    "import torchvision.transforms as transforms\n",
    "import matplotlib.pyplot as plt\n",
    "import PIL\n",
    "import numpy as np\n",
    "import torch.nn as nn\n",
    "import torch.nn.functional as F\n",
    "import torch.optim as optim\n",
    "import Sample_AlexNet\n",
    "from SampleNN import *\n",
    "from tqdm import tqdm_notebook\n",
    "%matplotlib inline\n",
    "device = torch.device(\"cuda:2\" if torch.cuda.is_available() else \"cpu\")\n",
    "#device = torch.device(\"cpu\")\n",
    "import torchvision"
   ]
  },
  {
   "cell_type": "code",
   "execution_count": 2,
   "metadata": {},
   "outputs": [],
   "source": [
    "import torchvision.transforms as transforms\n",
    "traindir = '/home/yanzy/data/train'\n",
    "valdir = '/home/yanzy/data/val'\n",
    "normalize = transforms.Normalize(mean=[0.485, 0.456, 0.406],\n",
    "                                 std=[0.229, 0.224, 0.225])\n",
    "\n",
    "val_loader = torch.utils.data.DataLoader(\n",
    "        torchvision.datasets.ImageFolder(valdir, transforms.Compose([\n",
    "            transforms.Resize(256),\n",
    "            transforms.CenterCrop(224),\n",
    "            transforms.ToTensor(),\n",
    "            normalize,\n",
    "\n",
    "        ])),\n",
    "        batch_size=128, shuffle=False,\n",
    "        num_workers=4, pin_memory=True)"
   ]
  },
  {
   "cell_type": "code",
   "execution_count": 3,
   "metadata": {},
   "outputs": [],
   "source": [
    "def val(Sample = 1, N = 16, m = 8):\n",
    "    TMP = protectStateDict(sample_net)\n",
    "    sampleStateDict(sample_net, N, m)\n",
    "    sample_net.eval()\n",
    "    correct = 0\n",
    "    total = 0\n",
    "    count = 0\n",
    "    with torch.no_grad():\n",
    "        for data in tqdm_notebook(val_loader, desc = \"m = %d\"%(m), leave = False):\n",
    "                images, labels = data\n",
    "                images, labels = images.to(device), labels.to(device)\n",
    "                images = mSample(N=N,m=m)(images)\n",
    "                outputs = sample_net(images)\n",
    "                _, predicted = torch.max(outputs.data, 1)\n",
    "                total += labels.size(0)\n",
    "                correct += (predicted == labels).sum().item()\n",
    "\n",
    "    print('When m = %d, Accuracy of the network on the %d test images: %.3f %%' % (m, total,\n",
    "        100.0 * correct / total))\n",
    "    \n",
    "    sample_net.load_state_dict(TMP)\n",
    "    del TMP\n",
    "    return 100.0 * correct / total"
   ]
  },
  {
   "cell_type": "code",
   "execution_count": 4,
   "metadata": {},
   "outputs": [],
   "source": [
    "def val_float(Sample = 1, N = 16, m = 8):\n",
    "    float_net.eval()\n",
    "    correct = 0\n",
    "    total = 0\n",
    "    count = 0\n",
    "    with torch.no_grad():\n",
    "        for data in tqdm_notebook(val_loader, desc = \"m = %d\"%(m), leave = False):\n",
    "            \n",
    "                images, labels = data\n",
    "                images, labels = images.to(device), labels.to(device)\n",
    "                outputs = float_net(images)\n",
    "                _, predicted = torch.max(outputs.data, 1)\n",
    "                total += labels.size(0)\n",
    "\n",
    "\n",
    "                correct += (predicted == labels).sum().item()\n",
    "                #print correct, total\n",
    "\n",
    "    print('When m = %d, Accuracy of the network on the %d test images: %.3f %%' % (m, total,\n",
    "        100.0 * correct / total))\n",
    "    \n",
    "    return 100.0 * correct / total"
   ]
  },
  {
   "cell_type": "markdown",
   "metadata": {},
   "source": [
    "## With Clamp version"
   ]
  },
  {
   "cell_type": "code",
   "execution_count": 5,
   "metadata": {},
   "outputs": [],
   "source": [
    "float_net = torchvision.models.alexnet(pretrained=True).to(device)\n",
    "gt  = float_net.state_dict()\n",
    "b = gt.keys()\n",
    "N = 16\n",
    "m = 10"
   ]
  },
  {
   "cell_type": "code",
   "execution_count": 6,
   "metadata": {},
   "outputs": [
    {
     "name": "stdout",
     "output_type": "stream",
     "text": [
      "torch.Size([64, 3, 11, 11])\n",
      "torch.Size([64])\n",
      "torch.Size([192, 64, 5, 5])\n",
      "torch.Size([192])\n",
      "torch.Size([384, 192, 3, 3])\n",
      "torch.Size([384])\n",
      "torch.Size([256, 384, 3, 3])\n",
      "torch.Size([256])\n",
      "torch.Size([256, 256, 3, 3])\n",
      "torch.Size([256])\n",
      "torch.Size([4096, 9216])\n",
      "torch.Size([4096])\n",
      "torch.Size([4096, 4096])\n",
      "torch.Size([4096])\n",
      "torch.Size([1000, 4096])\n",
      "torch.Size([1000])\n",
      "16\n"
     ]
    }
   ],
   "source": [
    "sample_net = Sample_AlexNet.alexnet().to(device)\n",
    "lol = sample_net.state_dict()\n",
    "a = lol.keys()\n",
    "for i in range(len(a)):\n",
    "    lol[a[i]] = gt[b[i]]\n",
    "    print (lol[a[i]].shape)\n",
    "sample_net.load_state_dict(lol)\n",
    "sampleStateDict(sample_net, N, m)\n",
    "sample_net.eval()\n",
    "print (len(a))"
   ]
  },
  {
   "cell_type": "code",
   "execution_count": 10,
   "metadata": {},
   "outputs": [
    {
     "data": {
      "application/vnd.jupyter.widget-view+json": {
       "model_id": "",
       "version_major": 2,
       "version_minor": 0
      },
      "text/plain": [
       "SEJveChjaGlsZHJlbj0oSW50UHJvZ3Jlc3ModmFsdWU9MCwgZGVzY3JpcHRpb249dSdtID0gMTMnLCBtYXg9NTAwMDAsIHN0eWxlPVByb2dyZXNzU3R5bGUoZGVzY3JpcHRpb25fd2lkdGg9dSfigKY=\n"
      ]
     },
     "metadata": {},
     "output_type": "display_data"
    },
    {
     "name": "stdout",
     "output_type": "stream",
     "text": [
      "\r",
      "When m = 13, Accuracy of the network on the 50000 test images: 44.048 %\n"
     ]
    },
    {
     "data": {
      "text/plain": [
       "44.048"
      ]
     },
     "execution_count": 10,
     "metadata": {},
     "output_type": "execute_result"
    }
   ],
   "source": [
    "val(1,N,13)"
   ]
  },
  {
   "cell_type": "code",
   "execution_count": 11,
   "metadata": {},
   "outputs": [
    {
     "data": {
      "application/vnd.jupyter.widget-view+json": {
       "model_id": "",
       "version_major": 2,
       "version_minor": 0
      },
      "text/plain": [
       "SEJveChjaGlsZHJlbj0oSW50UHJvZ3Jlc3ModmFsdWU9MCwgZGVzY3JpcHRpb249dSdtID0gOCcsIG1heD01MDAwMCwgc3R5bGU9UHJvZ3Jlc3NTdHlsZShkZXNjcmlwdGlvbl93aWR0aD11J2nigKY=\n"
      ]
     },
     "metadata": {},
     "output_type": "display_data"
    },
    {
     "name": "stdout",
     "output_type": "stream",
     "text": [
      "\r",
      "When m = 8, Accuracy of the network on the 50000 test images: 47.992 %\n"
     ]
    },
    {
     "data": {
      "text/plain": [
       "47.992"
      ]
     },
     "execution_count": 11,
     "metadata": {},
     "output_type": "execute_result"
    }
   ],
   "source": [
    "val_float()"
   ]
  },
  {
   "cell_type": "code",
   "execution_count": 8,
   "metadata": {},
   "outputs": [
    {
     "data": {
      "application/vnd.jupyter.widget-view+json": {
       "model_id": "2347998892484988a6e99d7df6321af5",
       "version_major": 2,
       "version_minor": 0
      },
      "text/plain": [
       "SEJveChjaGlsZHJlbj0oSW50UHJvZ3Jlc3ModmFsdWU9MCwgZGVzY3JpcHRpb249dSdtID0gOCcsIG1heD01MDAwMCwgc3R5bGU9UHJvZ3Jlc3NTdHlsZShkZXNjcmlwdGlvbl93aWR0aD11J2nigKY=\n"
      ]
     },
     "metadata": {},
     "output_type": "display_data"
    }
   ],
   "source": [
    "import time\n",
    "happysfsd = 0\n",
    "with torch.no_grad():\n",
    "    for data in tqdm_notebook(val_loader, desc = \"m = %d\"%(m), leave = False):\n",
    "            images, labels = data\n",
    "            if labels == 23:\n",
    "                happysfsd = happysfsd + 1\n",
    "            if happysfsd == 13:\n",
    "                break"
   ]
  },
  {
   "cell_type": "code",
   "execution_count": 8,
   "metadata": {},
   "outputs": [
    {
     "name": "stdout",
     "output_type": "stream",
     "text": [
      "(tensor([14.3750], device='cuda:0'), tensor([138], device='cuda:0'))\n",
      "tensor([23])\n"
     ]
    }
   ],
   "source": [
    "print torch.max(sample_net(mSample(N=16,m=8)(images).to(device)).data, 1)\n",
    "print labels"
   ]
  },
  {
   "cell_type": "code",
   "execution_count": 76,
   "metadata": {},
   "outputs": [],
   "source": [
    "M = (images.to(torch.float32)/pow(2,-8)).round().clamp(-pow(2,16),pow(2,16)-1).to(torch.int32)\n"
   ]
  },
  {
   "cell_type": "code",
   "execution_count": 8,
   "metadata": {},
   "outputs": [
    {
     "name": "stdout",
     "output_type": "stream",
     "text": [
      "torch.Size([64, 3, 11, 11])\n"
     ]
    }
   ],
   "source": [
    "a = torch.load('./Weights/features.0.weight.pt')\n",
    "print(a.size())"
   ]
  },
  {
   "cell_type": "code",
   "execution_count": 11,
   "metadata": {},
   "outputs": [],
   "source": [
    "N = 16\n",
    "m = 8\n",
    "delt = pow(2,-m)\n",
    "Q = pow(2, N-1) - 1\n",
    "ImageSize = 224\n",
    "img = torchvision.transforms.ToTensor()(plt.imread('timg.jpg'))\n",
    "img = nn.functional.interpolate(img.view(1,3,650,1200),size=(ImageSize,ImageSize),mode='bilinear')\n",
    "img = (img/delt).to(torch.int16)\n",
    "img = img.to(torch.float) * delt"
   ]
  },
  {
   "cell_type": "code",
   "execution_count": 25,
   "metadata": {},
   "outputs": [],
   "source": [
    "sample_net.eval()\n",
    "a = open('test.csv', 'w+')\n",
    "for i in list((mSample(N,m)(sample_net(img))/delt).view(-1).detach().numpy()):\n",
    "    a.write('%d,'%i)"
   ]
  },
  {
   "cell_type": "code",
   "execution_count": 26,
   "metadata": {},
   "outputs": [],
   "source": [
    "a.close()"
   ]
  },
  {
   "cell_type": "code",
   "execution_count": 55,
   "metadata": {},
   "outputs": [
    {
     "data": {
      "text/plain": [
       "tensor(803)"
      ]
     },
     "execution_count": 55,
     "metadata": {},
     "output_type": "execute_result"
    }
   ],
   "source": [
    "sample_net(img).argmax()"
   ]
  },
  {
   "cell_type": "code",
   "execution_count": 54,
   "metadata": {},
   "outputs": [
    {
     "data": {
      "text/plain": [
       "tensor(803)"
      ]
     },
     "execution_count": 54,
     "metadata": {},
     "output_type": "execute_result"
    }
   ],
   "source": [
    "float_net.eval()\n",
    "float_net(img).argmax()"
   ]
  },
  {
   "cell_type": "code",
   "execution_count": 43,
   "metadata": {},
   "outputs": [
    {
     "data": {
      "text/plain": [
       "tensor([[[0.7647, 0.7569, 0.7490,  ..., 0.6549, 0.6627, 0.6627],\n",
       "         [0.7686, 0.7608, 0.7647,  ..., 0.6471, 0.6667, 0.6667],\n",
       "         [0.7686, 0.7569, 0.7725,  ..., 0.6471, 0.6353, 0.6431],\n",
       "         ...,\n",
       "         [0.4078, 0.3804, 0.4157,  ..., 0.2706, 0.5373, 0.5882],\n",
       "         [0.3922, 0.3843, 0.3843,  ..., 0.2157, 0.4471, 0.5843],\n",
       "         [0.5059, 0.5176, 0.5137,  ..., 0.2078, 0.3529, 0.5255]],\n",
       "\n",
       "        [[0.7294, 0.7255, 0.7176,  ..., 0.6549, 0.6627, 0.6627],\n",
       "         [0.7333, 0.7255, 0.7294,  ..., 0.6392, 0.6588, 0.6588],\n",
       "         [0.7412, 0.7294, 0.7451,  ..., 0.6392, 0.6275, 0.6353],\n",
       "         ...,\n",
       "         [0.2902, 0.2588, 0.2941,  ..., 0.2353, 0.4431, 0.5412],\n",
       "         [0.2706, 0.2627, 0.2627,  ..., 0.2000, 0.3804, 0.5255],\n",
       "         [0.4314, 0.4431, 0.4392,  ..., 0.1922, 0.2824, 0.4706]],\n",
       "\n",
       "        [[0.6941, 0.6824, 0.6745,  ..., 0.6549, 0.6627, 0.6627],\n",
       "         [0.6980, 0.6902, 0.6941,  ..., 0.6510, 0.6706, 0.6706],\n",
       "         [0.7020, 0.6902, 0.7059,  ..., 0.6510, 0.6392, 0.6471],\n",
       "         ...,\n",
       "         [0.2980, 0.2784, 0.3137,  ..., 0.2157, 0.3490, 0.4471],\n",
       "         [0.2902, 0.2824, 0.2824,  ..., 0.2039, 0.3529, 0.4980],\n",
       "         [0.4392, 0.4510, 0.4471,  ..., 0.1961, 0.2745, 0.4588]]])"
      ]
     },
     "execution_count": 43,
     "metadata": {},
     "output_type": "execute_result"
    }
   ],
   "source": [
    "torchvision.transforms.ToTensor()(plt.imread('timg.jpg'))"
   ]
  },
  {
   "cell_type": "code",
   "execution_count": null,
   "metadata": {},
   "outputs": [],
   "source": []
  }
 ],
 "metadata": {
  "kernelspec": {
   "display_name": "Python2 (py2env)",
   "language": "python",
   "name": "testenv"
  },
  "language_info": {
   "codemirror_mode": {
    "name": "ipython",
    "version": 2
   },
   "file_extension": ".py",
   "mimetype": "text/x-python",
   "name": "python",
   "nbconvert_exporter": "python",
   "pygments_lexer": "ipython2",
   "version": "2.7.12"
  }
 },
 "nbformat": 4,
 "nbformat_minor": 2
}
