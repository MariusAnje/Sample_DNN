{
 "cells": [
  {
   "cell_type": "code",
   "execution_count": 1,
   "metadata": {},
   "outputs": [],
   "source": [
    "import torch\n",
    "import torchvision\n",
    "import torchvision.transforms as transforms\n",
    "import matplotlib.pyplot as plt\n",
    "import PIL\n",
    "import numpy as np\n",
    "import torch.nn as nn\n",
    "import torch.nn.functional as F\n",
    "import torch.optim as optim\n",
    "import Sample_AlexNet\n",
    "from SampleNN_Print import *\n",
    "from tqdm import tqdm_notebook\n",
    "%matplotlib inline\n",
    "#device = torch.device(\"cuda:0\" if torch.cuda.is_available() else \"cpu\")\n",
    "device = torch.device(\"cpu\")\n",
    "import torchvision"
   ]
  },
  {
   "cell_type": "code",
   "execution_count": 2,
   "metadata": {},
   "outputs": [],
   "source": [
    "import torchvision.transforms as transforms\n",
    "traindir = '/home/yanzy/data/train'\n",
    "valdir = '/home/yanzy/data/val'\n",
    "normalize = transforms.Normalize(mean=[0.485, 0.456, 0.406],\n",
    "                                 std=[0.229, 0.224, 0.225])\n",
    "\n",
    "val_dataset =  torchvision.datasets.ImageFolder(\n",
    "    valdir,\n",
    "    transforms.Compose([\n",
    "        transforms.RandomResizedCrop(224),\n",
    "        transforms.RandomHorizontalFlip(),\n",
    "        transforms.ToTensor(),\n",
    "        normalize,\n",
    "]))\n",
    "val_loader = torch.utils.data.DataLoader(val_dataset, batch_size=1,\n",
    "                                         shuffle=False, num_workers = 32, pin_memory=True)"
   ]
  },
  {
   "cell_type": "code",
   "execution_count": 4,
   "metadata": {},
   "outputs": [],
   "source": [
    "def val(Sample = 1, N = 16, m = 8):\n",
    "    TMP = protectStateDict(sample_net)\n",
    "    sampleStateDict(sample_net, N, m)\n",
    "    sample_net.eval()\n",
    "    correct = 0\n",
    "    total = 0\n",
    "    count = 0\n",
    "    with torch.no_grad():\n",
    "        for data in tqdm_notebook(val_loader, desc = \"m = %d\"%(m), leave = False):\n",
    "                images, labels = data\n",
    "                images, labels = images.to(device), labels.to(device)\n",
    "                images = mSample(N=N,m=m)(images)\n",
    "                outputs = sample_net(images)\n",
    "                _, predicted = torch.max(outputs.data, 1)\n",
    "                total += labels.size(0)\n",
    "                correct += (predicted == labels).sum().item()\n",
    "\n",
    "    print('When m = %d, Accuracy of the network on the %d test images: %.3f %%' % (m, total,\n",
    "        100.0 * correct / total))\n",
    "    \n",
    "    sample_net.load_state_dict(TMP)\n",
    "    del TMP\n",
    "    return 100.0 * correct / total"
   ]
  },
  {
   "cell_type": "code",
   "execution_count": 5,
   "metadata": {},
   "outputs": [],
   "source": [
    "def val_float(Sample = 1, N = 16, m = 8):\n",
    "    float_net.eval()\n",
    "    correct = 0\n",
    "    total = 0\n",
    "    count = 0\n",
    "    with torch.no_grad():\n",
    "        for data in tqdm_notebook(val_loader, desc = \"m = %d\"%(m), leave = False):\n",
    "            \n",
    "                images, labels = data\n",
    "                images, labels = images.to(device), labels.to(device)\n",
    "                outputs = float_net(images)\n",
    "                _, predicted = torch.max(outputs.data, 1)\n",
    "                total += labels.size(0)\n",
    "\n",
    "\n",
    "                correct += (predicted == labels).sum().item()\n",
    "                #print correct, total\n",
    "\n",
    "    print('When m = %d, Accuracy of the network on the %d test images: %.3f %%' % (m, total,\n",
    "        100.0 * correct / total))\n",
    "    \n",
    "    return 100.0 * correct / total"
   ]
  },
  {
   "cell_type": "markdown",
   "metadata": {},
   "source": [
    "## With Clamp version"
   ]
  },
  {
   "cell_type": "code",
   "execution_count": 3,
   "metadata": {},
   "outputs": [],
   "source": [
    "float_net = torchvision.models.alexnet(pretrained=True).to(device)\n",
    "gt  = float_net.state_dict()\n",
    "b = gt.keys()\n",
    "N = 16\n",
    "m = 8"
   ]
  },
  {
   "cell_type": "code",
   "execution_count": 4,
   "metadata": {},
   "outputs": [
    {
     "name": "stdout",
     "output_type": "stream",
     "text": [
      "torch.Size([64, 3, 11, 11])\n",
      "torch.Size([64])\n",
      "torch.Size([192, 64, 5, 5])\n",
      "torch.Size([192])\n",
      "torch.Size([384, 192, 3, 3])\n",
      "torch.Size([384])\n",
      "torch.Size([256, 384, 3, 3])\n",
      "torch.Size([256])\n",
      "torch.Size([256, 256, 3, 3])\n",
      "torch.Size([256])\n",
      "torch.Size([4096, 9216])\n",
      "torch.Size([4096])\n",
      "torch.Size([4096, 4096])\n",
      "torch.Size([4096])\n",
      "torch.Size([1000, 4096])\n",
      "torch.Size([1000])\n",
      "16\n"
     ]
    }
   ],
   "source": [
    "sample_net = Sample_AlexNet.alexnet().to(device)\n",
    "lol = sample_net.state_dict()\n",
    "a = lol.keys()\n",
    "for i in range(len(a)):\n",
    "    lol[a[i]] = gt[b[i]]\n",
    "    print (lol[a[i]].shape)\n",
    "sample_net.load_state_dict(lol)\n",
    "sampleStateDict(sample_net, N, m)\n",
    "sample_net.eval()\n",
    "print (len(a))"
   ]
  },
  {
   "cell_type": "code",
   "execution_count": 7,
   "metadata": {},
   "outputs": [
    {
     "data": {
      "application/vnd.jupyter.widget-view+json": {
       "model_id": "",
       "version_major": 2,
       "version_minor": 0
      },
      "text/plain": [
       "HBox(children=(IntProgress(value=0, description=u'm = 8', max=50000), HTML(value=u'')))"
      ]
     },
     "metadata": {},
     "output_type": "display_data"
    },
    {
     "name": "stdout",
     "output_type": "stream",
     "text": [
      "\r",
      "When m = 8, Accuracy of the network on the 50000 test images: 44.354 %\n"
     ]
    },
    {
     "data": {
      "text/plain": [
       "44.354"
      ]
     },
     "execution_count": 7,
     "metadata": {},
     "output_type": "execute_result"
    }
   ],
   "source": [
    "val()"
   ]
  },
  {
   "cell_type": "code",
   "execution_count": 7,
   "metadata": {},
   "outputs": [
    {
     "data": {
      "application/vnd.jupyter.widget-view+json": {
       "model_id": "cc3fec095bc04e328208133b214ea608",
       "version_major": 2,
       "version_minor": 0
      },
      "text/plain": [
       "HBox(children=(IntProgress(value=0, description=u'm = 8', max=50000), HTML(value=u'')))"
      ]
     },
     "metadata": {},
     "output_type": "display_data"
    },
    {
     "name": "stdout",
     "output_type": "stream",
     "text": [
      "\r"
     ]
    }
   ],
   "source": [
    "import time\n",
    "happysfsd = 0\n",
    "with torch.no_grad():\n",
    "    for data in tqdm_notebook(val_loader, desc = \"m = %d\"%(m), leave = False):\n",
    "            images, labels = data\n",
    "            if labels == 23:\n",
    "                happysfsd = happysfsd + 1\n",
    "            if happysfsd == 13:\n",
    "                break"
   ]
  },
  {
   "cell_type": "code",
   "execution_count": 8,
   "metadata": {},
   "outputs": [
    {
     "name": "stdout",
     "output_type": "stream",
     "text": [
      "(tensor([14.3750], device='cuda:0'), tensor([138], device='cuda:0'))\n",
      "tensor([23])\n"
     ]
    }
   ],
   "source": [
    "print torch.max(sample_net(mSample(N=16,m=8)(images).to(device)).data, 1)\n",
    "print labels"
   ]
  },
  {
   "cell_type": "code",
   "execution_count": 76,
   "metadata": {},
   "outputs": [],
   "source": [
    "M = (images.to(torch.float32)/pow(2,-8)).round().clamp(-pow(2,16),pow(2,16)-1).to(torch.int32)\n"
   ]
  },
  {
   "cell_type": "code",
   "execution_count": 8,
   "metadata": {},
   "outputs": [
    {
     "name": "stdout",
     "output_type": "stream",
     "text": [
      "torch.Size([64, 3, 11, 11])\n"
     ]
    }
   ],
   "source": [
    "a = torch.load('./Weights/features.0.weight.pt')\n",
    "print(a.size())"
   ]
  },
  {
   "cell_type": "code",
   "execution_count": null,
   "metadata": {},
   "outputs": [],
   "source": []
  }
 ],
 "metadata": {
  "kernelspec": {
   "display_name": "Python2 (py2env)",
   "language": "python",
   "name": "testenv"
  },
  "language_info": {
   "codemirror_mode": {
    "name": "ipython",
    "version": 2
   },
   "file_extension": ".py",
   "mimetype": "text/x-python",
   "name": "python",
   "nbconvert_exporter": "python",
   "pygments_lexer": "ipython2",
   "version": "2.7.12"
  }
 },
 "nbformat": 4,
 "nbformat_minor": 2
}
