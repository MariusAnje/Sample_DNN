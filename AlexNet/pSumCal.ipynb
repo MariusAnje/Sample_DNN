{
 "cells": [
  {
   "cell_type": "code",
   "execution_count": 48,
   "metadata": {},
   "outputs": [],
   "source": [
    "import torch\n",
    "import torch.nn as nn\n",
    "import torchvision\n",
    "from matplotlib import pyplot as plt\n",
    "\n",
    "# 这3个有用的\n",
    "InChannel = 0\n",
    "OutChannel = 0\n",
    "# filter的文件路径，按照自己的路径调整一下吧\n",
    "filterFilePath = './Weights/features.0.weight.pt'\n",
    "\n",
    "# 这些不用改\n",
    "N = 16\n",
    "m = 8\n",
    "delt = pow(2,-m)\n",
    "Q = pow(2, N-1) - 1\n",
    "intWeights = torch.load(filterFilePath)\n",
    "floatWeights = intWeights*delt\n",
    "conv = nn.Conv2d(1, 1, kernel_size=11, stride=4, padding=0)\n",
    "state_dict = conv.state_dict()\n",
    "state_dict['weight'] = floatWeights[InChannel][OutChannel].view(state_dict['weight'].size())\n",
    "state_dict['bias'] = torch.zeros(state_dict['bias'].size())\n",
    "conv.load_state_dict(state_dict)"
   ]
  },
  {
   "cell_type": "code",
   "execution_count": 57,
   "metadata": {},
   "outputs": [],
   "source": [
    "ImageSize = 224\n",
    "LargeSize = 227\n",
    "img = torchvision.transforms.ToTensor()(plt.imread('timg.jpg'))\n",
    "img = nn.functional.interpolate(img.view(1,3,650,1200),size=(ImageSize,ImageSize),mode='bilinear')\n",
    "img = (img/delt).to(torch.int16)\n",
    "img = img.to(torch.float) * delt\n",
    "ttt = torch.zeros(1,3,LargeSize,LargeSize)\n",
    "ttt[:,:,1:225,1:225] = img\n",
    "img = ttt\n",
    "output = ((conv(img[:,InChannel,:,:].view(1,1,LargeSize,LargeSize))/delt).to(torch.int16).to(torch.float) * delt).view(55,55)"
   ]
  },
  {
   "cell_type": "code",
   "execution_count": 7,
   "metadata": {},
   "outputs": [],
   "source": [
    "F = open(str(InChannel) + '.' + str(OutChannel) + '.output.csv','w+')\n",
    "strOutput = ''\n",
    "for i in range(len(output)):\n",
    "    for j in range(len(output)):\n",
    "        strOutput += '%.8f, '%(output[i][j])\n",
    "    strOutput += '\\n'\n",
    "F.write(strOutput)\n",
    "F.close()"
   ]
  },
  {
   "cell_type": "code",
   "execution_count": 58,
   "metadata": {},
   "outputs": [],
   "source": [
    "output4 = output"
   ]
  },
  {
   "cell_type": "markdown",
   "metadata": {},
   "source": [
    "# Important Findings\n",
    "\n",
    "Padding 2 in the front and padding 1 in the back, making an 224 x 224 image 227 x 227\n",
    "is the same as padding 2 in both side to make it 228 x 228 when filter is 11 x 11"
   ]
  },
  {
   "cell_type": "code",
   "execution_count": 56,
   "metadata": {},
   "outputs": [
    {
     "name": "stdout",
     "output_type": "stream",
     "text": [
      "tensor(0)\n"
     ]
    }
   ],
   "source": [
    "print (output1 != output3).sum()"
   ]
  },
  {
   "cell_type": "code",
   "execution_count": 47,
   "metadata": {},
   "outputs": [
    {
     "name": "stdout",
     "output_type": "stream",
     "text": [
      "tensor([[-2.1289, -0.4492, -0.7891,  ..., -0.8945, -0.4180, -1.0195],\n",
      "        [-1.3945, -0.3750,  0.5742,  ..., -0.6719,  0.2188, -0.5273],\n",
      "        [-0.6562, -0.4922, -0.5312,  ..., -0.6953,  0.3320, -0.5938],\n",
      "        ...,\n",
      "        [-0.5586,  1.1250, -0.3438,  ..., -1.2500,  0.7031,  0.5781],\n",
      "        [-0.6094,  0.2148, -0.4102,  ..., -0.9102,  0.3633,  0.9414],\n",
      "        [-0.6523, -0.1016, -0.6016,  ...,  0.1797,  0.8359,  1.3281]])\n"
     ]
    }
   ],
   "source": [
    "print output1"
   ]
  },
  {
   "cell_type": "code",
   "execution_count": 51,
   "metadata": {},
   "outputs": [
    {
     "name": "stdout",
     "output_type": "stream",
     "text": [
      "tensor([[-2.1289, -0.4492, -0.7891,  ..., -0.8945, -0.4180, -1.0195],\n",
      "        [-1.3945, -0.3750,  0.5742,  ..., -0.6719,  0.2188, -0.5273],\n",
      "        [-0.6562, -0.4922, -0.5312,  ..., -0.6953,  0.3320, -0.5938],\n",
      "        ...,\n",
      "        [-0.5586,  1.1250, -0.3438,  ..., -1.2500,  0.7031,  0.5781],\n",
      "        [-0.6094,  0.2148, -0.4102,  ..., -0.9102,  0.3633,  0.9414],\n",
      "        [-0.6523, -0.1016, -0.6016,  ...,  0.1797,  0.8359,  1.3281]])\n"
     ]
    }
   ],
   "source": [
    "print output2"
   ]
  },
  {
   "cell_type": "code",
   "execution_count": 55,
   "metadata": {},
   "outputs": [
    {
     "name": "stdout",
     "output_type": "stream",
     "text": [
      "tensor([[-2.1289, -0.4492, -0.7891,  ..., -0.8945, -0.4180, -1.0195],\n",
      "        [-1.3945, -0.3750,  0.5742,  ..., -0.6719,  0.2188, -0.5273],\n",
      "        [-0.6562, -0.4922, -0.5312,  ..., -0.6953,  0.3320, -0.5938],\n",
      "        ...,\n",
      "        [-0.5586,  1.1250, -0.3438,  ..., -1.2500,  0.7031,  0.5781],\n",
      "        [-0.6094,  0.2148, -0.4102,  ..., -0.9102,  0.3633,  0.9414],\n",
      "        [-0.6523, -0.1016, -0.6016,  ...,  0.1797,  0.8359,  1.3281]])\n"
     ]
    }
   ],
   "source": [
    "print output3"
   ]
  },
  {
   "cell_type": "code",
   "execution_count": 59,
   "metadata": {},
   "outputs": [
    {
     "name": "stdout",
     "output_type": "stream",
     "text": [
      "tensor([[-1.2695, -0.2695, -0.1719,  ..., -0.8164, -0.2578, -0.6328],\n",
      "        [-0.8750, -0.3438,  0.7422,  ..., -0.5664,  0.2070, -0.3633],\n",
      "        [-0.2852, -0.5195, -0.6719,  ..., -0.3672,  0.2891, -0.4453],\n",
      "        ...,\n",
      "        [ 0.1523,  0.6641, -0.6328,  ..., -0.8320,  0.9414,  0.3750],\n",
      "        [-0.2344,  0.0391, -0.6953,  ..., -0.6484,  0.5625,  0.9375],\n",
      "        [ 0.2305,  0.4141,  0.1250,  ...,  0.8867,  1.5000,  1.4297]])\n"
     ]
    }
   ],
   "source": [
    "print output4"
   ]
  },
  {
   "cell_type": "code",
   "execution_count": null,
   "metadata": {},
   "outputs": [],
   "source": []
  }
 ],
 "metadata": {
  "kernelspec": {
   "display_name": "Python2 (py2env)",
   "language": "python",
   "name": "testenv"
  },
  "language_info": {
   "codemirror_mode": {
    "name": "ipython",
    "version": 2
   },
   "file_extension": ".py",
   "mimetype": "text/x-python",
   "name": "python",
   "nbconvert_exporter": "python",
   "pygments_lexer": "ipython2",
   "version": "2.7.12"
  }
 },
 "nbformat": 4,
 "nbformat_minor": 2
}
