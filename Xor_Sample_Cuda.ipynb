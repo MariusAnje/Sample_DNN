{
 "cells": [
  {
   "cell_type": "code",
   "execution_count": 2,
   "metadata": {},
   "outputs": [],
   "source": [
    "import os\n",
    "import torch\n",
    "import pandas as pd\n",
    "from skimage import io, transform\n",
    "import numpy as np\n",
    "import matplotlib.pyplot as plt\n",
    "from torch.utils.data import Dataset, DataLoader\n",
    "import torch.nn.functional as F\n",
    "import torch.nn as nn\n",
    "from torch.autograd import Variable"
   ]
  },
  {
   "cell_type": "code",
   "execution_count": 3,
   "metadata": {},
   "outputs": [],
   "source": [
    "class HappyDataset(Dataset):\n",
    "    \"\"\"Face Landmarks dataset.\"\"\"\n",
    "\n",
    "    def __init__(self, csv_file, transform=None):\n",
    "        \n",
    "        self.data = pd.read_csv(csv_file)\n",
    "        self.transform = transform\n",
    "        \n",
    "\n",
    "    def __len__(self):\n",
    "        return len(self.data)\n",
    "\n",
    "    def __getitem__(self, idx):\n",
    "        \n",
    "        data = self.data.iloc[idx, 0:].values\n",
    "        data = torch.Tensor(data.astype('float'))\n",
    "        if self.transform:\n",
    "            data = self.transform(data)\n",
    "        inputs = data[0:2]\n",
    "        labels = data[2:4]\n",
    "        return inputs, labels\n",
    "\n",
    "happy = HappyDataset(csv_file='happy.csv')\n",
    "\n",
    "dataloader = DataLoader(happy, batch_size=1,\n",
    "                        shuffle=False, num_workers=1)"
   ]
  },
  {
   "cell_type": "code",
   "execution_count": 4,
   "metadata": {},
   "outputs": [],
   "source": [
    "class float_Net(nn.Module):\n",
    "    def __init__(self):\n",
    "        super(float_Net, self).__init__()\n",
    "        self.fc1 = nn.Linear(2, 4)\n",
    "        self.fc2 = nn.Linear(4, 1)\n",
    "        self.relu = nn.ReLU()\n",
    "\n",
    "    def forward(self, x):\n",
    "        \n",
    "        x = self.relu(self.fc1(x))\n",
    "        x = self.fc2(x)\n",
    "        return x\n",
    "\n",
    "net = float_Net()\n",
    "net.cuda(0)\n",
    "criterion = nn.MSELoss()\n",
    "optimizer = torch.optim.SGD(net.parameters(), lr=0.001, momentum=0.9)"
   ]
  },
  {
   "cell_type": "code",
   "execution_count": 6,
   "metadata": {
    "scrolled": true
   },
   "outputs": [
    {
     "name": "stdout",
     "output_type": "stream",
     "text": [
      "1.62951536151\n",
      "0.667846776545\n",
      "0.557367169531\n",
      "0.314677334041\n",
      "0.0676771415165\n"
     ]
    }
   ],
   "source": [
    "for i in range(500):\n",
    "    tLoss = 0\n",
    "    for index, data in enumerate(dataloader):\n",
    "        inputs, labels = data\n",
    "        inputs = inputs.cuda(0)\n",
    "        labels = labels.cuda(0)\n",
    "        optimizer.zero_grad()\n",
    "        outputs = net(inputs)\n",
    "        loss = criterion(outputs, labels)\n",
    "        loss.backward()\n",
    "        optimizer.step()\n",
    "        tLoss += loss.item()\n",
    "    if i%100 == 0:\n",
    "        print tLoss"
   ]
  },
  {
   "cell_type": "code",
   "execution_count": 11,
   "metadata": {},
   "outputs": [
    {
     "name": "stdout",
     "output_type": "stream",
     "text": [
      "tensor([0.0403])\n",
      "tensor([0.9818])\n",
      "tensor([0.9462])\n",
      "tensor([0.0521])\n"
     ]
    }
   ],
   "source": [
    "print net(torch.Tensor([0,0]).cuda(0)).data.cpu()\n",
    "print net(torch.Tensor([0,1]).cuda(0)).data.cpu()\n",
    "print net(torch.Tensor([1,0]).cuda(0)).data.cpu()\n",
    "print net(torch.Tensor([1,1]).cuda(0)).data.cpu()"
   ]
  },
  {
   "cell_type": "code",
   "execution_count": 12,
   "metadata": {},
   "outputs": [],
   "source": [
    "class oSample(torch.autograd.Function):\n",
    "    def forward(ctx, inputs):\n",
    "        delt = 1*pow(2,-5)\n",
    "        M = (inputs/delt).round()\n",
    "        M[M>=128] = 127\n",
    "        M[M<-127] = -128\n",
    "        S = delt*M\n",
    "        return S\n",
    "    def backward(ctx, g):\n",
    "        return g\n",
    "\n",
    "def sampleStateDict(net):\n",
    "    Dict = net.state_dict()\n",
    "    Key = Dict.keys()\n",
    "    for i in Key:\n",
    "        Dict[i] = oSample()(Dict[i])\n",
    "    net.load_state_dict(Dict)\n",
    "\n",
    "def protectStateDict(net):\n",
    "    Dict = net.state_dict()\n",
    "    Key = Dict.keys()\n",
    "    for i in Key:\n",
    "        Dict[i] = Dict[i]*1\n",
    "    return Dict"
   ]
  },
  {
   "cell_type": "code",
   "execution_count": 17,
   "metadata": {},
   "outputs": [
    {
     "data": {
      "text/plain": [
       "sample_Net(\n",
       "  (fc1): Linear(in_features=2, out_features=4, bias=True)\n",
       "  (fc2): Linear(in_features=4, out_features=1, bias=True)\n",
       ")"
      ]
     },
     "execution_count": 17,
     "metadata": {},
     "output_type": "execute_result"
    }
   ],
   "source": [
    "class sample_Net(nn.Module):\n",
    "    def __init__(self):\n",
    "        super(sample_Net, self).__init__()\n",
    "        self.fc1 = nn.Linear(2, 4)\n",
    "        self.fc2 = nn.Linear(4, 1)\n",
    "        self.oSample = oSample()\n",
    "\n",
    "    def forward(self, x):\n",
    "        \n",
    "        x = oSample()(F.relu(oSample()(self.fc1(x))))\n",
    "        x = oSample()(self.fc2(x))\n",
    "        return x\n",
    "\n",
    "sample_net = sample_Net()\n",
    "sample_net.cuda(0)\n",
    "#sample_net.load_state_dict(lol)"
   ]
  },
  {
   "cell_type": "code",
   "execution_count": 18,
   "metadata": {},
   "outputs": [
    {
     "name": "stdout",
     "output_type": "stream",
     "text": [
      "tensor([0.1562])\n",
      "tensor([0.0625])\n",
      "tensor([-0.0312])\n",
      "tensor([-0.0938])\n"
     ]
    }
   ],
   "source": [
    "print sample_net(torch.Tensor([0,0]).cuda(0)).data.cpu()\n",
    "print sample_net(torch.Tensor([0,1]).cuda(0)).data.cpu()\n",
    "print sample_net(torch.Tensor([1,0]).cuda(0)).data.cpu()\n",
    "print sample_net(torch.Tensor([1,1]).cuda(0)).data.cpu()"
   ]
  },
  {
   "cell_type": "code",
   "execution_count": 20,
   "metadata": {},
   "outputs": [
    {
     "name": "stdout",
     "output_type": "stream",
     "text": [
      "tensor([0.], device='cuda:0')\n",
      "tensor([0.9688], device='cuda:0')\n",
      "tensor([0.9688], device='cuda:0')\n",
      "tensor([-0.0625], device='cuda:0')\n"
     ]
    }
   ],
   "source": [
    "criterion = nn.MSELoss()\n",
    "optimizer = torch.optim.SGD(sample_net.parameters(), lr=0.01)\n",
    "for i in range(1000):\n",
    "    tLoss = 0\n",
    "    for index, data in enumerate(dataloader):\n",
    "        inputs, labels = data\n",
    "        inputs = inputs.cuda(0)\n",
    "        labels = labels.cuda(0)\n",
    "        optimizer.zero_grad()\n",
    "        TMP = protectStateDict(sample_net)\n",
    "        sampleStateDict(sample_net)\n",
    "        outputs = sample_net(inputs)\n",
    "        loss = criterion(outputs, labels)\n",
    "        loss.backward()\n",
    "        sample_net.load_state_dict(TMP)\n",
    "        optimizer.step()\n",
    "        tLoss += loss.item()\n",
    "    if tLoss == 0:\n",
    "        break\n",
    "    if i%100 == 5:\n",
    "        print tLoss\n",
    "    #sampleStateDict(sample_net)\n",
    "print sample_net(torch.Tensor([0,0]).cuda(0)).data.cpu()\n",
    "print sample_net(torch.Tensor([0,1]).cuda(0)).data.cpu()\n",
    "print sample_net(torch.Tensor([1,0]).cuda(0)).data.cpu()\n",
    "print sample_net(torch.Tensor([1,1]).cuda(0)).data.cpu()"
   ]
  },
  {
   "cell_type": "code",
   "execution_count": null,
   "metadata": {},
   "outputs": [],
   "source": []
  }
 ],
 "metadata": {
  "kernelspec": {
   "display_name": "Python 2",
   "language": "python",
   "name": "python2"
  },
  "language_info": {
   "codemirror_mode": {
    "name": "ipython",
    "version": 2
   },
   "file_extension": ".py",
   "mimetype": "text/x-python",
   "name": "python",
   "nbconvert_exporter": "python",
   "pygments_lexer": "ipython2",
   "version": "2.7.12"
  }
 },
 "nbformat": 4,
 "nbformat_minor": 2
}
